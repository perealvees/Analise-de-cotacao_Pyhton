{
 "cells": [
  {
   "cell_type": "markdown",
   "id": "142dbdb6-19da-424c-bb80-f93111a6e9e2",
   "metadata": {},
   "source": [
    "## Automação de tarefas ##\n",
    "1 - buscar automaticamente os códigos das ações so site da Yahoo\n",
    "2 - gerar a as analises dos tickers solicitados pelo gestor\n",
    "3 - enviar email com todas as analises de forma automática"
   ]
  },
  {
   "cell_type": "markdown",
   "id": "a5fee5e8-bcbc-4ad9-bcee-1be0966ab43e",
   "metadata": {},
   "source": [
    "## buscar automaticamente os códigos das ações so site da Yahoo ##\n"
   ]
  },
  {
   "cell_type": "code",
   "execution_count": 41,
   "id": "ac9dd021-319f-4b9a-9ebd-55836f182ca5",
   "metadata": {},
   "outputs": [
    {
     "name": "stdout",
     "output_type": "stream",
     "text": [
      "Requirement already satisfied: yfinance in c:\\users\\user\\anaconda3\\lib\\site-packages (0.2.37)\n",
      "Requirement already satisfied: pandas>=1.3.0 in c:\\users\\user\\anaconda3\\lib\\site-packages (from yfinance) (2.1.4)\n",
      "Requirement already satisfied: numpy>=1.16.5 in c:\\users\\user\\anaconda3\\lib\\site-packages (from yfinance) (1.26.4)\n",
      "Requirement already satisfied: requests>=2.31 in c:\\users\\user\\anaconda3\\lib\\site-packages (from yfinance) (2.31.0)\n",
      "Requirement already satisfied: multitasking>=0.0.7 in c:\\users\\user\\anaconda3\\lib\\site-packages (from yfinance) (0.0.11)\n",
      "Requirement already satisfied: lxml>=4.9.1 in c:\\users\\user\\anaconda3\\lib\\site-packages (from yfinance) (4.9.3)\n",
      "Requirement already satisfied: appdirs>=1.4.4 in c:\\users\\user\\anaconda3\\lib\\site-packages (from yfinance) (1.4.4)\n",
      "Requirement already satisfied: pytz>=2022.5 in c:\\users\\user\\anaconda3\\lib\\site-packages (from yfinance) (2023.3.post1)\n",
      "Requirement already satisfied: frozendict>=2.3.4 in c:\\users\\user\\anaconda3\\lib\\site-packages (from yfinance) (2.4.0)\n",
      "Requirement already satisfied: peewee>=3.16.2 in c:\\users\\user\\anaconda3\\lib\\site-packages (from yfinance) (3.17.1)\n",
      "Requirement already satisfied: beautifulsoup4>=4.11.1 in c:\\users\\user\\anaconda3\\lib\\site-packages (from yfinance) (4.12.2)\n",
      "Requirement already satisfied: html5lib>=1.1 in c:\\users\\user\\anaconda3\\lib\\site-packages (from yfinance) (1.1)\n",
      "Requirement already satisfied: soupsieve>1.2 in c:\\users\\user\\anaconda3\\lib\\site-packages (from beautifulsoup4>=4.11.1->yfinance) (2.5)\n",
      "Requirement already satisfied: six>=1.9 in c:\\users\\user\\anaconda3\\lib\\site-packages (from html5lib>=1.1->yfinance) (1.16.0)\n",
      "Requirement already satisfied: webencodings in c:\\users\\user\\anaconda3\\lib\\site-packages (from html5lib>=1.1->yfinance) (0.5.1)\n",
      "Requirement already satisfied: python-dateutil>=2.8.2 in c:\\users\\user\\anaconda3\\lib\\site-packages (from pandas>=1.3.0->yfinance) (2.8.2)\n",
      "Requirement already satisfied: tzdata>=2022.1 in c:\\users\\user\\anaconda3\\lib\\site-packages (from pandas>=1.3.0->yfinance) (2023.3)\n",
      "Requirement already satisfied: charset-normalizer<4,>=2 in c:\\users\\user\\anaconda3\\lib\\site-packages (from requests>=2.31->yfinance) (2.0.4)\n",
      "Requirement already satisfied: idna<4,>=2.5 in c:\\users\\user\\anaconda3\\lib\\site-packages (from requests>=2.31->yfinance) (3.4)\n",
      "Requirement already satisfied: urllib3<3,>=1.21.1 in c:\\users\\user\\anaconda3\\lib\\site-packages (from requests>=2.31->yfinance) (2.0.7)\n",
      "Requirement already satisfied: certifi>=2017.4.17 in c:\\users\\user\\anaconda3\\lib\\site-packages (from requests>=2.31->yfinance) (2024.2.2)\n"
     ]
    }
   ],
   "source": [
    "!pip  install yfinance"
   ]
  },
  {
   "cell_type": "code",
   "execution_count": 42,
   "id": "f81f0db0-495c-41dd-ac84-53b5055af085",
   "metadata": {},
   "outputs": [],
   "source": [
    "import yfinance"
   ]
  },
  {
   "cell_type": "code",
   "execution_count": 43,
   "id": "77c9293f-cd3e-40e0-bc90-83843da20ed0",
   "metadata": {},
   "outputs": [
    {
     "name": "stdin",
     "output_type": "stream",
     "text": [
      "Digite o ticket da sua ação:  petr4.sa\n"
     ]
    }
   ],
   "source": [
    "codigo = input(\"Digite o ticket da sua ação: \")\n",
    "\n",
    "dados = yfinance.Ticker(codigo).history(\"6mo\")\n",
    "\n",
    "fechamento = dados.Close"
   ]
  },
  {
   "cell_type": "markdown",
   "id": "42ca213e-37cd-46c9-88bb-b417015d0e7b",
   "metadata": {},
   "source": [
    "## gerar a as analises dos tickers solicitados pelo gestor:\n",
    "- cotação dos ultimos 6 meses\n",
    "- cotação máximo\n",
    "- cotação mínimo\n",
    "- cotação atual"
   ]
  },
  {
   "cell_type": "code",
   "execution_count": 39,
   "id": "843edefe-e1c6-4ebc-9d8c-e864fa7a1cd9",
   "metadata": {},
   "outputs": [
    {
     "data": {
      "text/plain": [
       "4.267295837402344"
      ]
     },
     "execution_count": 39,
     "metadata": {},
     "output_type": "execute_result"
    }
   ],
   "source": [
    "maxima = fechamento.max()\n",
    "minima = fechamento.min()\n",
    "fechamento.iloc[-1]"
   ]
  },
  {
   "cell_type": "code",
   "execution_count": 44,
   "id": "e21a567c-834e-4b56-a689-cb480dc69b8e",
   "metadata": {},
   "outputs": [
    {
     "data": {
      "text/plain": [
       "Date\n",
       "2023-09-21 00:00:00-03:00    32.501633\n",
       "2023-09-22 00:00:00-03:00    32.761570\n",
       "2023-09-25 00:00:00-03:00    32.973370\n",
       "2023-09-26 00:00:00-03:00    32.212814\n",
       "2023-09-27 00:00:00-03:00    33.233307\n",
       "                               ...    \n",
       "2024-03-14 00:00:00-03:00    36.220001\n",
       "2024-03-15 00:00:00-03:00    36.320000\n",
       "2024-03-18 00:00:00-03:00    36.340000\n",
       "2024-03-19 00:00:00-03:00    36.070000\n",
       "2024-03-20 00:00:00-03:00    36.700001\n",
       "Name: Close, Length: 122, dtype: float64"
      ]
     },
     "execution_count": 44,
     "metadata": {},
     "output_type": "execute_result"
    }
   ],
   "source": [
    "fechamento"
   ]
  },
  {
   "cell_type": "markdown",
   "id": "dd679b8d-91ed-486b-bcf8-6a3fb134bf97",
   "metadata": {},
   "source": [
    "## automatizar envio de email\n",
    "- abrir nova aba CTRL+T\n",
    "- digitar www.gmail.com em seguida enter\n",
    "- clicar no botão escrever\n",
    "- preencher destinatário\n",
    "- tab preencher assunto\n",
    "- tab preencher o corpo do email\n",
    "- clicar no botão \"ENVIAR\"\n",
    "- "
   ]
  },
  {
   "cell_type": "code",
   "execution_count": 1,
   "id": "de79591f-11d7-42cb-ae24-45d46dd5ab17",
   "metadata": {},
   "outputs": [
    {
     "name": "stdout",
     "output_type": "stream",
     "text": [
      "Requirement already satisfied: pyperclip in c:\\users\\user\\anaconda3\\lib\\site-packages (1.8.2)\n"
     ]
    }
   ],
   "source": [
    "!pip install pyperclip"
   ]
  },
  {
   "cell_type": "code",
   "execution_count": 58,
   "id": "3ccdf598-2bfe-414f-9517-e1b7b0bb2320",
   "metadata": {},
   "outputs": [],
   "source": [
    "import pyperclip"
   ]
  },
  {
   "cell_type": "code",
   "execution_count": 45,
   "id": "410e6cc3-00b2-497a-8a48-2c04f0dbc3eb",
   "metadata": {},
   "outputs": [
    {
     "name": "stdout",
     "output_type": "stream",
     "text": [
      "Requirement already satisfied: pyautogui in c:\\users\\user\\anaconda3\\lib\\site-packages (0.9.54)\n",
      "Requirement already satisfied: pymsgbox in c:\\users\\user\\anaconda3\\lib\\site-packages (from pyautogui) (1.0.9)\n",
      "Requirement already satisfied: pytweening>=1.0.4 in c:\\users\\user\\anaconda3\\lib\\site-packages (from pyautogui) (1.2.0)\n",
      "Requirement already satisfied: pyscreeze>=0.1.21 in c:\\users\\user\\anaconda3\\lib\\site-packages (from pyautogui) (0.1.30)\n",
      "Requirement already satisfied: pygetwindow>=0.0.5 in c:\\users\\user\\anaconda3\\lib\\site-packages (from pyautogui) (0.0.9)\n",
      "Requirement already satisfied: mouseinfo in c:\\users\\user\\anaconda3\\lib\\site-packages (from pyautogui) (0.1.3)\n",
      "Requirement already satisfied: pyrect in c:\\users\\user\\anaconda3\\lib\\site-packages (from pygetwindow>=0.0.5->pyautogui) (0.2.0)\n",
      "Requirement already satisfied: Pillow>=9.3.0 in c:\\users\\user\\anaconda3\\lib\\site-packages (from pyscreeze>=0.1.21->pyautogui) (10.2.0)\n",
      "Requirement already satisfied: pyperclip in c:\\users\\user\\anaconda3\\lib\\site-packages (from mouseinfo->pyautogui) (1.8.2)\n",
      "Note: you may need to restart the kernel to use updated packages.\n"
     ]
    }
   ],
   "source": [
    "pip install pyautogui"
   ]
  },
  {
   "cell_type": "code",
   "execution_count": 63,
   "id": "731d1292-7701-49d1-b2a3-4e8b1d692ba4",
   "metadata": {},
   "outputs": [],
   "source": [
    "import pyautogui"
   ]
  },
  {
   "cell_type": "markdown",
   "id": "70afb944-055b-465e-8289-70ce75009377",
   "metadata": {},
   "source": [
    "# abrir nova aba CTRL+T"
   ]
  },
  {
   "cell_type": "code",
   "execution_count": null,
   "id": "35b45ab9-2344-4441-b3fb-122ee188f955",
   "metadata": {},
   "outputs": [],
   "source": []
  },
  {
   "cell_type": "code",
   "execution_count": null,
   "id": "5f458b95-fd2b-47f6-a45e-7dd80527807f",
   "metadata": {},
   "outputs": [],
   "source": []
  },
  {
   "cell_type": "code",
   "execution_count": null,
   "id": "87261521-2d1e-4c03-9b7e-686829c8e8d9",
   "metadata": {},
   "outputs": [],
   "source": []
  },
  {
   "cell_type": "code",
   "execution_count": null,
   "id": "d18db903-1c73-4208-8f07-1579c1e4fef4",
   "metadata": {},
   "outputs": [],
   "source": []
  }
 ],
 "metadata": {
  "kernelspec": {
   "display_name": "Python 3 (ipykernel)",
   "language": "python",
   "name": "python3"
  },
  "language_info": {
   "codemirror_mode": {
    "name": "ipython",
    "version": 3
   },
   "file_extension": ".py",
   "mimetype": "text/x-python",
   "name": "python",
   "nbconvert_exporter": "python",
   "pygments_lexer": "ipython3",
   "version": "3.11.7"
  }
 },
 "nbformat": 4,
 "nbformat_minor": 5
}
